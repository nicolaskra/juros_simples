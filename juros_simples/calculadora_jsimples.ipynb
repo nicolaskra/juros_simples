{
 "cells": [
  {
   "cell_type": "markdown",
   "id": "c87aafcf-4d1e-410a-b1a2-a5eef4496092",
   "metadata": {},
   "source": [
    "# Selecione qual calculadora deseja usar\n"
   ]
  },
  {
   "cell_type": "code",
   "execution_count": 45,
   "id": "3fef192c-7c38-469d-ae3b-1c6ca738792b",
   "metadata": {
    "tags": []
   },
   "outputs": [
    {
     "name": "stdout",
     "output_type": "stream",
     "text": [
      "Escolha a operação que você deseja realizar: \n",
      "1. Calcular Juros \n",
      "2. Calcular Capital Inicial\n",
      "3. Calcular Período\n",
      "4. Sair do menu \n"
     ]
    },
    {
     "name": "stdin",
     "output_type": "stream",
     "text": [
      "Digite o número da operação (1,2,3,4):  4\n"
     ]
    },
    {
     "name": "stdout",
     "output_type": "stream",
     "text": [
      "Saindo do programa... \n"
     ]
    }
   ],
   "source": [
    "\n",
    "    def menu():\n",
    "       while True: \n",
    "        print(f'Escolha a operação que você deseja realizar: ')\n",
    "        print(f'1. Calcular Juros ')\n",
    "        print(f'2. Calcular Capital Inicial')\n",
    "        print(f'3. Calcular Período')\n",
    "        print(f'4. Sair do menu ')\n",
    "        escolha = int(input(f'Digite o número da operação (1,2,3,4): '))\n",
    "\n",
    "        if escolha == 1:\n",
    "            inicial = float(input(f'Insira o valor inicial: '))\n",
    "            periodo = int(input(f'Insira o período em meses: '))\n",
    "            taxa    = float(input(f'Insira a taxa em decimal '))\n",
    "            # Nota se que dividimos a taxa inserida para o calculo ser eficiente\n",
    "            percentual = taxa/100\n",
    "            juros   = float(inicial*percentual*periodo)\n",
    "            montante = float(inicial+juros)\n",
    "            parcela  = float(montante/periodo)\n",
    "            #Personalizando o resultado\n",
    "            print(f'O valor da parcela é de R${parcela:.2f} ')\n",
    "            print(f'Total de juros é de R${juros:.2f} ')\n",
    "            print(f'O montante será de R${montante:.2f} ')\n",
    "    \n",
    "        elif escolha == 2:\n",
    "            juros = float(input(f'Insira o valor do juros: ' ))\n",
    "            periodo = int(input(f'Insira o período em meses: '))\n",
    "            capital_inicial = float(input(f'Insira o capital inicial: '))\n",
    "            taxa = juros/capital_inicial*periodo\n",
    "            taxa = taxa\n",
    "            taxa_mensal = taxa/periodo\n",
    "            montante = juros + capital_inicial\n",
    "            parcela = montante / periodo\n",
    "            #Personalizando o resultado\n",
    "            print(f'O percentual total é {taxa:.2f}% ')\n",
    "            print(f'O valor percentual mensal é de {taxa_mensal:.2f}% ')\n",
    "            print(f'O valor total será de R${montante:.2f} ')\n",
    "            print(f'O valor da parcela será de R${parcela:.2f} ')\n",
    "            \n",
    "        elif escolha == 3:\n",
    "            capital_inicial = float(input(f'Insira o valor inicial: ' ))\n",
    "            taxa         = float(input(f'Insira o valor da taxa: ' ))\n",
    "            juros           = float(input(f'Insira o valor do juros: ' ))\n",
    "            # Nota se que dividimos a taxa inserida para o calculo ser eficiente\n",
    "            taxa_decimal = taxa/100\n",
    "            montante     = capital_inicial + juros\n",
    "            periodo = juros / (capital_inicial * taxa_decimal)\n",
    "            percentual_total = periodo * taxa\n",
    "            parcela      = montante / periodo\n",
    "            #Personalizando o resultado\n",
    "            print(f'O percentual total de juros será de {percentual_total:.2f}% ')\n",
    "            print(f'O montante será de RS:{montante:.2f} ')\n",
    "            print(f'O valor da parcela será de R${parcela:.2f} ')\n",
    "            print(f'O periodo do emprestimo será de {periodo:.0f} meses ')\n",
    "  \n",
    "        elif escolha == 4:\n",
    "            print(f'Saindo do programa... ')\n",
    "            break\n",
    "        \n",
    "        else:\n",
    "            print(f'Opção inválida. Tente novamente ')\n",
    "            menu()\n",
    "menu()\n"
   ]
  },
  {
   "cell_type": "code",
   "execution_count": null,
   "id": "24e5f146-b73c-4870-9bcc-1ca43f605a5b",
   "metadata": {},
   "outputs": [],
   "source": []
  }
 ],
 "metadata": {
  "kernelspec": {
   "display_name": "anaconda-ai-2023-11",
   "language": "python",
   "name": "conda-env-anaconda-ai-2023-11-py"
  },
  "language_info": {
   "codemirror_mode": {
    "name": "ipython",
    "version": 3
   },
   "file_extension": ".py",
   "mimetype": "text/x-python",
   "name": "python",
   "nbconvert_exporter": "python",
   "pygments_lexer": "ipython3",
   "version": "3.10.13"
  }
 },
 "nbformat": 4,
 "nbformat_minor": 5
}
